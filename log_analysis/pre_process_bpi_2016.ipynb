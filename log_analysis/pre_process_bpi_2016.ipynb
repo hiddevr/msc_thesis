{
 "cells": [
  {
   "cell_type": "code",
   "id": "initial_id",
   "metadata": {
    "collapsed": true,
    "ExecuteTime": {
     "end_time": "2024-07-20T09:07:56.346601Z",
     "start_time": "2024-07-20T09:07:56.329606Z"
    }
   },
   "source": [
    "import os\n",
    "\n",
    "\n",
    "def find_csv_files(dir_path):\n",
    "    csv_files = []\n",
    "    for root, dirs, files in os.walk(dir_path):\n",
    "        for file in files:\n",
    "            if file.endswith(\".csv\") and '2016' in file and 'NOT' not in file:\n",
    "                csv_files.append(os.path.join(root, file))\n",
    "    return csv_files\n",
    "\n",
    "\n",
    "csv_files = find_csv_files('../raw_eventlogs')\n",
    "csv_files"
   ],
   "execution_count": 2,
   "outputs": []
  },
  {
   "metadata": {
    "ExecuteTime": {
     "end_time": "2024-07-20T09:08:15.765639Z",
     "start_time": "2024-07-20T09:07:57.078509Z"
    }
   },
   "cell_type": "code",
   "source": [
    "import pandas as pd\n",
    "\n",
    "\n",
    "for file_path in csv_files:\n",
    "    print(file_path)\n",
    "    df = pd.read_csv(file_path, sep=';', encoding='latin-1')\n",
    "    print(df.columns)\n"
   ],
   "id": "f6b5a430a7bede98",
   "execution_count": 3,
   "outputs": []
  },
  {
   "metadata": {
    "ExecuteTime": {
     "end_time": "2024-07-20T09:13:33.158518Z",
     "start_time": "2024-07-20T09:12:45.724736Z"
    }
   },
   "cell_type": "code",
   "source": [
    "import pandas as pd\n",
    "import os\n",
    "\n",
    "cols_to_drop = ['ComplaintTheme', 'ComplaintSubtheme', 'ComplaintTopic', 'QuestionTheme', 'QuestionSubtheme', 'QuestionTopic', 'tip', 'service_detail', 'page_action_detail']\n",
    "\n",
    "activity_mapping = {\n",
    "    'BPI2016_Complaints.csv': 'make_complaint',\n",
    "    'BPI2016_Questions.csv': 'ask_question',\n",
    "    'BPI2016_Werkmap_Messages.csv': 'send_message'\n",
    "}\n",
    "\n",
    "timestamp_mapping = {\n",
    "    'BPI2016_Clicks_Logged_In.csv': 'TIMESTAMP',\n",
    "    'BPI2016_Complaints.csv': 'ContactDate',\n",
    "    'BPI2016_Questions.csv': 'ContactDate',\n",
    "    'BPI2016_Werkmap_Messages.csv': 'EventDateTime'\n",
    "}\n",
    "\n",
    "def process_file(file_path):\n",
    "    print(file_path)\n",
    "    df = pd.read_csv(file_path, sep=';', encoding='latin-1')\n",
    "    file_name = os.path.basename(file_path)\n",
    "    \n",
    "    if file_name in activity_mapping:\n",
    "        df['Activity'] = activity_mapping[file_name]\n",
    "    else:\n",
    "        df['Activity'] = df['URL_FILE']\n",
    "        \n",
    "    print(df.columns)\n",
    "    df['Timestamp'] = pd.to_datetime(df[timestamp_mapping[file_name]], format='ISO8601')\n",
    "    \n",
    "    df['Resource'] = df['Office_U'].astype(str) + '_' + df['Office_W'].astype(str)\n",
    "    \n",
    "    return df\n",
    "\n",
    "dfs = []\n",
    "for file_path in csv_files:\n",
    "    dfs.append(process_file(file_path))\n",
    "\n",
    "combined_df = pd.concat(dfs, ignore_index=True)\n",
    "combined_df = combined_df.sort_values(['CustomerID', 'Timestamp'])\n",
    "combined_df = combined_df.drop(cols_to_drop, axis=1)"
   ],
   "id": "48906cb27d548835",
   "execution_count": 8,
   "outputs": []
  },
  {
   "metadata": {
    "ExecuteTime": {
     "end_time": "2024-07-20T09:20:21.241935Z",
     "start_time": "2024-07-20T09:20:13.343309Z"
    }
   },
   "cell_type": "code",
   "source": "max(combined_df['Timestamp'])",
   "id": "9b36b18e118a61ce",
   "execution_count": 9,
   "outputs": []
  },
  {
   "metadata": {},
   "cell_type": "code",
   "source": "",
   "id": "e160fb66b6f82825",
   "execution_count": null,
   "outputs": []
  }
 ],
 "metadata": {
  "kernelspec": {
   "display_name": "Python 3",
   "language": "python",
   "name": "python3"
  },
  "language_info": {
   "codemirror_mode": {
    "name": "ipython",
    "version": 2
   },
   "file_extension": ".py",
   "mimetype": "text/x-python",
   "name": "python",
   "nbconvert_exporter": "python",
   "pygments_lexer": "ipython2",
   "version": "2.7.6"
  }
 },
 "nbformat": 4,
 "nbformat_minor": 5
}
