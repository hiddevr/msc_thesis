{
 "cells": [
  {
   "cell_type": "code",
   "id": "initial_id",
   "metadata": {
    "collapsed": true,
    "ExecuteTime": {
     "end_time": "2024-07-20T09:39:27.431294Z",
     "start_time": "2024-07-20T09:39:27.415102Z"
    }
   },
   "source": [
    "import os\n",
    "\n",
    "\n",
    "def find_csv_files(dir_path):\n",
    "    csv_files = []\n",
    "    for root, dirs, files in os.walk(dir_path):\n",
    "        for file in files:\n",
    "            if file.endswith(\".csv\") and '2014' in file and 'NOT' not in file:\n",
    "                csv_files.append(os.path.join(root, file))\n",
    "    return csv_files\n",
    "\n",
    "\n",
    "csv_files = find_csv_files('../raw_eventlogs')\n",
    "csv_files"
   ],
   "execution_count": 1,
   "outputs": []
  },
  {
   "metadata": {
    "ExecuteTime": {
     "end_time": "2024-07-20T09:49:00.656321Z",
     "start_time": "2024-07-20T09:48:59.791738Z"
    }
   },
   "cell_type": "code",
   "source": [
    "import pandas as pd\n",
    "\n",
    "df = pd.read_csv('../raw_eventlogs/BPI_Challenge_2014_Detail_Incident_Activity.csv', sep=';')\n",
    "df = df.rename(columns={\n",
    "    'Incident ID': 'case:concept:name',\n",
    "    'DateStamp': 'time:timestamp',\n",
    "})\n",
    "df['concept:name'] = df['IncidentActivity_Number'] + '_' + df['IncidentActivity_Type']\n",
    "df"
   ],
   "id": "a231bb7d8d89bb4f",
   "execution_count": 5,
   "outputs": []
  },
  {
   "metadata": {},
   "cell_type": "code",
   "execution_count": null,
   "source": "",
   "id": "cc7f155f98fce3f5",
   "outputs": []
  }
 ],
 "metadata": {
  "kernelspec": {
   "display_name": "Python 3",
   "language": "python",
   "name": "python3"
  },
  "language_info": {
   "codemirror_mode": {
    "name": "ipython",
    "version": 2
   },
   "file_extension": ".py",
   "mimetype": "text/x-python",
   "name": "python",
   "nbconvert_exporter": "python",
   "pygments_lexer": "ipython2",
   "version": "2.7.6"
  }
 },
 "nbformat": 4,
 "nbformat_minor": 5
}
