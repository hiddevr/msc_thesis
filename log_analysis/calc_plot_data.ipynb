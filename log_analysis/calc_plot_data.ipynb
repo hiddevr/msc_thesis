{
 "cells": [
  {
   "metadata": {
    "ExecuteTime": {
     "end_time": "2024-07-15T07:11:26.525143Z",
     "start_time": "2024-07-15T07:11:26.504444Z"
    }
   },
   "cell_type": "code",
   "source": [
    "import os\n",
    "\n",
    "def find_xes_files(starting_folder):\n",
    "    result = []\n",
    "\n",
    "    for root, dirs, files in os.walk(starting_folder):\n",
    "        for file in files:\n",
    "            if file.endswith('.xes'):\n",
    "                file_path = os.path.join(root, file)\n",
    "                relative_path = os.path.relpath(file_path, starting_folder)\n",
    "                parts = relative_path.split(os.sep)\n",
    "                if len(parts) > 1:\n",
    "                    dataset_name = parts[0]\n",
    "                else:\n",
    "                    dataset_name = os.path.splitext(file)[0]\n",
    "                result.append({\n",
    "                    'dataset_name': dataset_name,\n",
    "                    'dataset_path': file_path\n",
    "                })\n",
    "\n",
    "    return result\n",
    "\n",
    "all_files = find_xes_files('/local/s3377954/remote_ssh_files/raw_eventlogs')\n",
    "all_files"
   ],
   "id": "6a67ef6c0136d623",
   "execution_count": 1,
   "outputs": []
  },
  {
   "metadata": {
    "ExecuteTime": {
     "end_time": "2024-07-15T07:22:17.268292Z",
     "start_time": "2024-07-15T07:14:08.282052Z"
    }
   },
   "cell_type": "code",
   "source": [
    "from event_log_stats.dataset_generator import DatasetGenerator\n",
    "import concurrent.futures\n",
    "\n",
    "\n",
    "def process_file(file):\n",
    "    print(file)\n",
    "    generator = DatasetGenerator('plot_data_day')\n",
    "    generator.generate(file['dataset_name'], file['dataset_path'], 'day')\n",
    "    \n",
    "with concurrent.futures.ProcessPoolExecutor(max_workers=16) as executor:\n",
    "    futures = [executor.submit(process_file, file) for file in all_files]\n",
    "    for future in concurrent.futures.as_completed(futures):\n",
    "        future.result()"
   ],
   "id": "initial_id",
   "execution_count": 4,
   "outputs": []
  },
  {
   "metadata": {},
   "cell_type": "code",
   "execution_count": null,
   "source": "",
   "id": "739dc7583759ec8a",
   "outputs": []
  }
 ],
 "metadata": {
  "kernelspec": {
   "display_name": "Python 3",
   "language": "python",
   "name": "python3"
  },
  "language_info": {
   "codemirror_mode": {
    "name": "ipython",
    "version": 2
   },
   "file_extension": ".py",
   "mimetype": "text/x-python",
   "name": "python",
   "nbconvert_exporter": "python",
   "pygments_lexer": "ipython2",
   "version": "2.7.6"
  }
 },
 "nbformat": 4,
 "nbformat_minor": 5
}
