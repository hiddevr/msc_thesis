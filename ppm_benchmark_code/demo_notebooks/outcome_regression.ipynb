{
 "cells": [
  {
   "cell_type": "code",
   "id": "initial_id",
   "metadata": {
    "collapsed": true,
    "ExecuteTime": {
     "end_time": "2024-07-24T09:14:31.708369Z",
     "start_time": "2024-07-24T09:13:45.959634Z"
    }
   },
   "source": [
    "from ppm_benchmark.core.benchmark_loader import BenchmarkLoader\n",
    "\n",
    "\n",
    "loader = BenchmarkLoader()\n",
    "benchmark = loader.load_from_config('configs/local_outcome_regression.yaml', max_workers=2)\n",
    "\n",
    "tasks = benchmark.get_tasks()\n",
    "tasks"
   ],
   "execution_count": 1,
   "outputs": []
  },
  {
   "metadata": {
    "ExecuteTime": {
     "end_time": "2024-07-22T11:41:11.233680Z",
     "start_time": "2024-07-22T11:20:50.415756Z"
    }
   },
   "cell_type": "code",
   "source": [
    "from ppm_benchmark.core.benchmark_loader import BenchmarkLoader\n",
    "from sklearn.ensemble import RandomForestRegressor\n",
    "from ppm_benchmark.utils.label_encoder import PPMLabelEncoder\n",
    "from tqdm.notebook import tqdm\n",
    "\n",
    "loader = BenchmarkLoader()\n",
    "benchmark = loader.load_from_folder('outcome_regression')\n",
    "tasks = benchmark.get_tasks()\n",
    "results = dict()\n",
    "\n",
    "for task_name in tqdm(tasks):\n",
    "    task = benchmark.load_task(task_name)\n",
    "    train = task.get_train_data()\n",
    "    test = task.get_test_data().drop('target', axis=1)\n",
    "    \n",
    "    string_cols = train.select_dtypes(include=['object']).columns\n",
    "    encoder = PPMLabelEncoder()\n",
    "    train[string_cols] = encoder.fit_transform(train[string_cols])\n",
    "    string_cols = test.select_dtypes(include=['object']).columns\n",
    "    test[string_cols] = encoder.transform_with_new_labels(test[string_cols])\n",
    "    \n",
    "    X = train.drop('target', axis=1)\n",
    "    y = train['target']\n",
    "    \n",
    "    model = RandomForestRegressor()\n",
    "    model.fit(X, y)\n",
    "        \n",
    "    preds = model.predict(test)\n",
    "    results[task.name] = preds"
   ],
   "id": "fbb3b2a3b6a8abfe",
   "execution_count": 5,
   "outputs": []
  },
  {
   "metadata": {
    "ExecuteTime": {
     "end_time": "2024-07-22T11:41:11.328943Z",
     "start_time": "2024-07-22T11:41:11.291631Z"
    }
   },
   "cell_type": "code",
   "source": [
    "import pickle\n",
    "\n",
    "with open('outcome_regression/test_results.pkl', 'wb') as f:\n",
    "    pickle.dump(results, f)"
   ],
   "id": "9b28b19a20efb1f4",
   "execution_count": 6,
   "outputs": []
  },
  {
   "metadata": {},
   "cell_type": "markdown",
   "source": "## VANAF HIERONDER VOOR TEST.",
   "id": "17bbca199304f345"
  },
  {
   "metadata": {
    "ExecuteTime": {
     "end_time": "2024-07-22T11:54:09.286039Z",
     "start_time": "2024-07-22T11:54:05.496975Z"
    }
   },
   "cell_type": "code",
   "source": [
    "import pickle\n",
    "from ppm_benchmark.core.benchmark_loader import BenchmarkLoader\n",
    "\n",
    "\n",
    "loader = BenchmarkLoader()\n",
    "benchmark = loader.load_from_folder('outcome_regression')\n",
    "evaluator = benchmark.get_evaluator()\n",
    "\n",
    "with open('outcome_regression/test_results.pkl', 'rb') as f:\n",
    "    results = pickle.load(f)"
   ],
   "id": "bbc914993e8f7486",
   "execution_count": 2,
   "outputs": []
  },
  {
   "metadata": {
    "ExecuteTime": {
     "end_time": "2024-07-22T11:54:10.812398Z",
     "start_time": "2024-07-22T11:54:09.289041Z"
    }
   },
   "cell_type": "code",
   "source": [
    "for task_name, result in results.items():\n",
    "    task = benchmark.load_task(task_name)\n",
    "    test = task.get_test_data().drop('target', axis=1)\n",
    "    evaluator.add_predictions(task_name, result)\n",
    "    "
   ],
   "id": "bc0c7e29010ed5f9",
   "execution_count": 3,
   "outputs": []
  },
  {
   "metadata": {
    "ExecuteTime": {
     "end_time": "2024-07-22T11:54:10.969248Z",
     "start_time": "2024-07-22T11:54:10.814399Z"
    }
   },
   "cell_type": "code",
   "source": "evaluator.evaluate()",
   "id": "e172b77d27efcbb3",
   "execution_count": 4,
   "outputs": []
  },
  {
   "metadata": {
    "ExecuteTime": {
     "end_time": "2024-07-22T11:54:11.579468Z",
     "start_time": "2024-07-22T11:54:10.972230Z"
    }
   },
   "cell_type": "code",
   "source": "evaluator.plot_by_fraction_completed('MAE')",
   "id": "f0accc28fb3ddbbf",
   "execution_count": 5,
   "outputs": []
  },
  {
   "metadata": {
    "ExecuteTime": {
     "end_time": "2024-07-22T11:54:12.016295Z",
     "start_time": "2024-07-22T11:54:11.580477Z"
    }
   },
   "cell_type": "code",
   "source": "evaluator.plot_by_train_act_distance('MAE')",
   "id": "1fc78432f5d504c1",
   "execution_count": 6,
   "outputs": []
  },
  {
   "metadata": {
    "ExecuteTime": {
     "end_time": "2024-07-22T11:54:12.173598Z",
     "start_time": "2024-07-22T11:54:12.017259Z"
    }
   },
   "cell_type": "code",
   "source": "evaluator.plot_by_attr_drift_column('MAE')",
   "id": "ac90540739ddd6f1",
   "execution_count": 7,
   "outputs": []
  }
 ],
 "metadata": {
  "kernelspec": {
   "display_name": "Python 3",
   "language": "python",
   "name": "python3"
  },
  "language_info": {
   "codemirror_mode": {
    "name": "ipython",
    "version": 2
   },
   "file_extension": ".py",
   "mimetype": "text/x-python",
   "name": "python",
   "nbconvert_exporter": "python",
   "pygments_lexer": "ipython2",
   "version": "2.7.6"
  }
 },
 "nbformat": 4,
 "nbformat_minor": 5
}
