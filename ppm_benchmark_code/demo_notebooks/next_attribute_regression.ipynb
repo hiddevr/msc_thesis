{
 "cells": [
  {
   "cell_type": "code",
   "id": "initial_id",
   "metadata": {
    "collapsed": true,
    "ExecuteTime": {
     "end_time": "2024-07-25T11:01:38.119778Z",
     "start_time": "2024-07-25T11:00:21.736122Z"
    }
   },
   "source": [
    "from ppm_benchmark.core.benchmark_loader import BenchmarkLoader\n",
    "\n",
    "\n",
    "loader = BenchmarkLoader()\n",
    "benchmark = loader.load_from_config('configs/local_next_attribute_regression.yaml', max_workers=2)\n",
    "\n",
    "tasks = benchmark.get_tasks()\n",
    "tasks"
   ],
   "outputs": [
    {
     "data": {
      "text/plain": [
       "Total progress: 0it [00:00, ?it/s]"
      ],
      "application/vnd.jupyter.widget-view+json": {
       "version_major": 2,
       "version_minor": 0,
       "model_id": "b583550cf1ea4beeba360483723ab25e"
      }
     },
     "metadata": {},
     "output_type": "display_data"
    },
    {
     "name": "stderr",
     "output_type": "stream",
     "text": [
      "C:\\Users\\Dell\\OneDrive - Universiteit Leiden\\Thesis\\Code\\ppm_benchmark_code\\ppm_benchmark\\Models\\BaseDatasetNormalizer.py:23: UserWarning: Converting to PeriodArray/Index representation will drop timezone information.\n",
      "  case_starts_df['date'] = case_starts_df[\"time:timestamp\"].dt.to_period('M')\n",
      "C:\\Users\\Dell\\OneDrive - Universiteit Leiden\\Thesis\\Code\\ppm_benchmark_code\\ppm_benchmark\\Models\\BaseDatasetNormalizer.py:40: UserWarning: Converting to PeriodArray/Index representation will drop timezone information.\n",
      "  case_stops_df['date'] = case_stops_df[\"time:timestamp\"].dt.to_period('M')\n",
      "C:\\Users\\Dell\\OneDrive - Universiteit Leiden\\Thesis\\Code\\ppm_benchmark_code\\ppm_benchmark\\Models\\BaseDatasetNormalizer.py:23: UserWarning: Converting to PeriodArray/Index representation will drop timezone information.\n",
      "  case_starts_df['date'] = case_starts_df[\"time:timestamp\"].dt.to_period('M')\n",
      "C:\\Users\\Dell\\OneDrive - Universiteit Leiden\\Thesis\\Code\\ppm_benchmark_code\\ppm_benchmark\\Models\\BaseDatasetNormalizer.py:40: UserWarning: Converting to PeriodArray/Index representation will drop timezone information.\n",
      "  case_stops_df['date'] = case_stops_df[\"time:timestamp\"].dt.to_period('M')\n"
     ]
    },
    {
     "data": {
      "text/plain": [
       "Identifying attribute drift...:   0%|          | 0/14 [00:00<?, ?it/s]"
      ],
      "application/vnd.jupyter.widget-view+json": {
       "version_major": 2,
       "version_minor": 0,
       "model_id": "34dad8d78d5c410eabc0807c4eb9acde"
      }
     },
     "metadata": {},
     "output_type": "display_data"
    },
    {
     "data": {
      "text/plain": [
       "Finding closest train sequences for test data...:   0%|          | 0/7423 [00:00<?, ?it/s]"
      ],
      "application/vnd.jupyter.widget-view+json": {
       "version_major": 2,
       "version_minor": 0,
       "model_id": "1a953f3ba249425d87d02871e91acefc"
      }
     },
     "metadata": {},
     "output_type": "display_data"
    },
    {
     "data": {
      "text/plain": [
       "Creating evaluation data:   0%|          | 0/174 [00:00<?, ?it/s]"
      ],
      "application/vnd.jupyter.widget-view+json": {
       "version_major": 2,
       "version_minor": 0,
       "model_id": "c4364e4ee46946f5bee04f3d57cd35ff"
      }
     },
     "metadata": {},
     "output_type": "display_data"
    },
    {
     "data": {
      "text/plain": [
       "Identifying attribute drift...:   0%|          | 0/15 [00:00<?, ?it/s]"
      ],
      "application/vnd.jupyter.widget-view+json": {
       "version_major": 2,
       "version_minor": 0,
       "model_id": "c3216e98d604473a99210ca83abc35b5"
      }
     },
     "metadata": {},
     "output_type": "display_data"
    },
    {
     "data": {
      "text/plain": [
       "Finding closest train sequences for test data...:   0%|          | 0/6169 [00:00<?, ?it/s]"
      ],
      "application/vnd.jupyter.widget-view+json": {
       "version_major": 2,
       "version_minor": 0,
       "model_id": "3c0a184c4911429faf76fe965a7a9f7c"
      }
     },
     "metadata": {},
     "output_type": "display_data"
    },
    {
     "data": {
      "text/plain": [
       "Creating evaluation data:   0%|          | 0/120 [00:00<?, ?it/s]"
      ],
      "application/vnd.jupyter.widget-view+json": {
       "version_major": 2,
       "version_minor": 0,
       "model_id": "466434862af7433d86ae729c22c714c7"
      }
     },
     "metadata": {},
     "output_type": "display_data"
    },
    {
     "data": {
      "text/plain": [
       "['bpi_2015_1_next_timestamp', 'bpi_2015_2_next_timestamp']"
      ]
     },
     "execution_count": 1,
     "metadata": {},
     "output_type": "execute_result"
    }
   ],
   "execution_count": 1
  },
  {
   "metadata": {
    "ExecuteTime": {
     "end_time": "2024-07-25T11:03:04.638287Z",
     "start_time": "2024-07-25T11:01:38.122892Z"
    }
   },
   "cell_type": "code",
   "source": [
    "from ppm_benchmark.core.benchmark_loader import BenchmarkLoader\n",
    "from sklearn.ensemble import RandomForestRegressor\n",
    "from ppm_benchmark.utils.label_encoder import PPMLabelEncoder\n",
    "from tqdm.notebook import tqdm\n",
    "\n",
    "loader = BenchmarkLoader()\n",
    "benchmark = loader.load_from_folder('next_attribute_regression')\n",
    "tasks = benchmark.get_tasks()\n",
    "results = dict()\n",
    "\n",
    "for task_name in tqdm(tasks):\n",
    "    task = benchmark.load_task(task_name)\n",
    "    train = task.get_train_data()\n",
    "    test = task.get_test_data().drop('target', axis=1)\n",
    "    \n",
    "    string_cols = train.select_dtypes(include=['object']).columns\n",
    "    encoder = PPMLabelEncoder()\n",
    "    train[string_cols] = encoder.fit_transform(train[string_cols])\n",
    "    string_cols = test.select_dtypes(include=['object']).columns\n",
    "    test[string_cols] = encoder.transform_with_new_labels(test[string_cols])\n",
    "    \n",
    "    X = train.drop('target', axis=1)\n",
    "    y = train['target']\n",
    "    \n",
    "    model = RandomForestRegressor()\n",
    "    model.fit(X, y)\n",
    "        \n",
    "    preds = model.predict(test)\n",
    "    results[task.name] = preds"
   ],
   "id": "fbb3b2a3b6a8abfe",
   "outputs": [
    {
     "data": {
      "text/plain": [
       "  0%|          | 0/2 [00:00<?, ?it/s]"
      ],
      "application/vnd.jupyter.widget-view+json": {
       "version_major": 2,
       "version_minor": 0,
       "model_id": "3ccae1c05ed941ee8a3b39346ca2d2ae"
      }
     },
     "metadata": {},
     "output_type": "display_data"
    }
   ],
   "execution_count": 2
  },
  {
   "metadata": {
    "ExecuteTime": {
     "end_time": "2024-07-25T11:03:04.654362Z",
     "start_time": "2024-07-25T11:03:04.640275Z"
    }
   },
   "cell_type": "code",
   "source": [
    "import pickle\n",
    "\n",
    "with open('next_attribute_regression/test_results.pkl', 'wb') as f:\n",
    "    pickle.dump(results, f)"
   ],
   "id": "9b28b19a20efb1f4",
   "outputs": [],
   "execution_count": 3
  },
  {
   "metadata": {},
   "cell_type": "markdown",
   "source": "## VANAF HIERONDER VOOR TEST.",
   "id": "17bbca199304f345"
  },
  {
   "metadata": {
    "ExecuteTime": {
     "end_time": "2024-07-25T11:03:04.780003Z",
     "start_time": "2024-07-25T11:03:04.657360Z"
    }
   },
   "cell_type": "code",
   "source": [
    "import pickle\n",
    "from ppm_benchmark.core.benchmark_loader import BenchmarkLoader\n",
    "\n",
    "\n",
    "loader = BenchmarkLoader()\n",
    "benchmark = loader.load_from_folder('next_attribute_regression')\n",
    "evaluator = benchmark.get_evaluator()\n",
    "\n",
    "with open('next_attribute_regression/test_results.pkl', 'rb') as f:\n",
    "    results = pickle.load(f)"
   ],
   "id": "bbc914993e8f7486",
   "outputs": [],
   "execution_count": 4
  },
  {
   "metadata": {
    "ExecuteTime": {
     "end_time": "2024-07-25T11:03:04.826702Z",
     "start_time": "2024-07-25T11:03:04.782511Z"
    }
   },
   "cell_type": "code",
   "source": [
    "for task_name, result in results.items():\n",
    "    evaluator.add_predictions(task_name, result)\n",
    "    "
   ],
   "id": "bc0c7e29010ed5f9",
   "outputs": [],
   "execution_count": 5
  },
  {
   "metadata": {
    "ExecuteTime": {
     "end_time": "2024-07-25T11:03:05.012672Z",
     "start_time": "2024-07-25T11:03:04.827705Z"
    }
   },
   "cell_type": "code",
   "source": "evaluator.evaluate()",
   "id": "e172b77d27efcbb3",
   "outputs": [
    {
     "name": "stderr",
     "output_type": "stream",
     "text": [
      "C:\\Users\\Dell\\OneDrive - Universiteit Leiden\\Thesis\\ppm_benchmark\\env\\lib\\site-packages\\sklearn\\metrics\\_regression.py:492: FutureWarning: 'squared' is deprecated in version 1.4 and will be removed in 1.6. To calculate the root mean squared error, use the function'root_mean_squared_error'.\n",
      "  warnings.warn(\n",
      "C:\\Users\\Dell\\OneDrive - Universiteit Leiden\\Thesis\\ppm_benchmark\\env\\lib\\site-packages\\sklearn\\metrics\\_regression.py:492: FutureWarning: 'squared' is deprecated in version 1.4 and will be removed in 1.6. To calculate the root mean squared error, use the function'root_mean_squared_error'.\n",
      "  warnings.warn(\n",
      "C:\\Users\\Dell\\OneDrive - Universiteit Leiden\\Thesis\\ppm_benchmark\\env\\lib\\site-packages\\sklearn\\metrics\\_regression.py:492: FutureWarning: 'squared' is deprecated in version 1.4 and will be removed in 1.6. To calculate the root mean squared error, use the function'root_mean_squared_error'.\n",
      "  warnings.warn(\n",
      "C:\\Users\\Dell\\OneDrive - Universiteit Leiden\\Thesis\\ppm_benchmark\\env\\lib\\site-packages\\sklearn\\metrics\\_regression.py:492: FutureWarning: 'squared' is deprecated in version 1.4 and will be removed in 1.6. To calculate the root mean squared error, use the function'root_mean_squared_error'.\n",
      "  warnings.warn(\n"
     ]
    },
    {
     "data": {
      "text/plain": [
       "[{'task_name': 'bpi_2015_1_next_timestamp',\n",
       "  'metric': 'MAE',\n",
       "  'model': 12564.18175891472,\n",
       "  'baseline': 11010.766797766084},\n",
       " {'task_name': 'bpi_2015_1_next_timestamp',\n",
       "  'metric': 'RMSE',\n",
       "  'model': 14875.019932277459,\n",
       "  'baseline': 13468.743113488192},\n",
       " {'task_name': 'bpi_2015_1_next_timestamp',\n",
       "  'metric': 'MSE',\n",
       "  'model': 221266217.9856517,\n",
       "  'baseline': 181407041.0571356},\n",
       " {'task_name': 'bpi_2015_1_next_timestamp',\n",
       "  'metric': 'Correlation',\n",
       "  'model': -0.003536886876933841,\n",
       "  'baseline': 0},\n",
       " {'task_name': 'bpi_2015_2_next_timestamp',\n",
       "  'metric': 'MAE',\n",
       "  'model': 13814.676830114584,\n",
       "  'baseline': 9603.431379025928},\n",
       " {'task_name': 'bpi_2015_2_next_timestamp',\n",
       "  'metric': 'RMSE',\n",
       "  'model': 16902.47859947415,\n",
       "  'baseline': 12516.770527176108},\n",
       " {'task_name': 'bpi_2015_2_next_timestamp',\n",
       "  'metric': 'MSE',\n",
       "  'model': 285693782.80568165,\n",
       "  'baseline': 156669544.42998448},\n",
       " {'task_name': 'bpi_2015_2_next_timestamp',\n",
       "  'metric': 'Correlation',\n",
       "  'model': 0.011217158672095827,\n",
       "  'baseline': 0}]"
      ]
     },
     "execution_count": 6,
     "metadata": {},
     "output_type": "execute_result"
    }
   ],
   "execution_count": 6
  },
  {
   "metadata": {
    "ExecuteTime": {
     "end_time": "2024-07-25T11:03:05.216665Z",
     "start_time": "2024-07-25T11:03:05.014476Z"
    }
   },
   "cell_type": "code",
   "source": "evaluator.plot_by_fraction_completed('MAE')",
   "id": "4b4df3582c86f651",
   "outputs": [
    {
     "ename": "AttributeError",
     "evalue": "'NextAttributeRegression' object has no attribute 'plot_by_fraction_completed'",
     "output_type": "error",
     "traceback": [
      "\u001B[1;31m---------------------------------------------------------------------------\u001B[0m",
      "\u001B[1;31mAttributeError\u001B[0m                            Traceback (most recent call last)",
      "Cell \u001B[1;32mIn[7], line 1\u001B[0m\n\u001B[1;32m----> 1\u001B[0m \u001B[43mevaluator\u001B[49m\u001B[38;5;241;43m.\u001B[39;49m\u001B[43mplot_by_fraction_completed\u001B[49m(\u001B[38;5;124m'\u001B[39m\u001B[38;5;124mMAE\u001B[39m\u001B[38;5;124m'\u001B[39m)\n",
      "\u001B[1;31mAttributeError\u001B[0m: 'NextAttributeRegression' object has no attribute 'plot_by_fraction_completed'"
     ]
    }
   ],
   "execution_count": 7
  },
  {
   "metadata": {},
   "cell_type": "code",
   "source": "evaluator.plot_by_train_act_distance('MAE')",
   "id": "1fc78432f5d504c1",
   "outputs": [],
   "execution_count": null
  },
  {
   "metadata": {},
   "cell_type": "code",
   "source": "evaluator.plot_by_attr_drift_column('MAE')",
   "id": "ac90540739ddd6f1",
   "outputs": [],
   "execution_count": null
  },
  {
   "metadata": {},
   "cell_type": "code",
   "source": "",
   "id": "9744ecdcc1f441a2",
   "outputs": [],
   "execution_count": null
  }
 ],
 "metadata": {
  "kernelspec": {
   "display_name": "Python 3",
   "language": "python",
   "name": "python3"
  },
  "language_info": {
   "codemirror_mode": {
    "name": "ipython",
    "version": 2
   },
   "file_extension": ".py",
   "mimetype": "text/x-python",
   "name": "python",
   "nbconvert_exporter": "python",
   "pygments_lexer": "ipython2",
   "version": "2.7.6"
  }
 },
 "nbformat": 4,
 "nbformat_minor": 5
}
