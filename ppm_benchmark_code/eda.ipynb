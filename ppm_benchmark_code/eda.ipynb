{
 "cells": [
  {
   "cell_type": "code",
   "id": "initial_id",
   "metadata": {
    "collapsed": true,
    "ExecuteTime": {
     "end_time": "2024-07-20T09:54:15.804074Z",
     "start_time": "2024-07-20T09:53:40.872440Z"
    }
   },
   "source": [
    "from ppm_benchmark.eda.eda import EDA\n",
    "\n",
    "config_path = 'pred_demo_notebooks/configs/eda_config_local.yaml'\n",
    "granularity = 'day'\n",
    "save_folder = 'eda_data'\n",
    "\n",
    "eda = EDA(config_path, save_folder)"
   ],
   "outputs": [],
   "execution_count": 1
  },
  {
   "metadata": {
    "ExecuteTime": {
     "end_time": "2024-07-20T10:50:50.145341Z",
     "start_time": "2024-07-20T09:54:15.807396Z"
    }
   },
   "cell_type": "code",
   "source": "eda.process_data(max_workers=16, processed_datasets=None)",
   "id": "b010776343d7f1b4",
   "outputs": [
    {
     "name": "stdout",
     "output_type": "stream",
     "text": [
      "Processing bpi_2015_2 dataset...\n",
      "Processing bpi_2015_5 dataset...Processing bpi_2016 dataset...\n",
      "Processing bpi_2012 dataset...\n",
      "Processing bpi_2020_domestic dataset...\n"
     ]
    },
    {
     "name": "stderr",
     "output_type": "stream",
     "text": [
      " 12%|█▏        | 81/657 [02:41<09:47,  1.02s/it]]]"
     ]
    },
    {
     "name": "stdout",
     "output_type": "stream",
     "text": [
      "Calculating statistics for bpi_2019\n"
     ]
    },
    {
     "name": "stderr",
     "output_type": "stream",
     "text": [
      " 72%|███████▏  | 455/630 [02:56<01:03,  2.78it/s]]"
     ]
    },
    {
     "name": "stdout",
     "output_type": "stream",
     "text": [
      "Number of days: 481\n"
     ]
    },
    {
     "name": "stderr",
     "output_type": "stream",
     "text": [
      " 84%|████████▍ | 532/630 [03:28<00:59,  1.65it/s] "
     ]
    },
    {
     "name": "stdout",
     "output_type": "stream",
     "text": [
      "Calculating statistics for bpi_2017\n"
     ]
    },
    {
     "name": "stderr",
     "output_type": "stream",
     "text": [
      " 90%|████████▉ | 566/630 [03:41<00:22,  2.79it/s]"
     ]
    },
    {
     "name": "stdout",
     "output_type": "stream",
     "text": [
      "Number of days: 398\n"
     ]
    },
    {
     "name": "stderr",
     "output_type": "stream",
     "text": [
      "100%|██████████| 630/630 [04:02<00:00,  2.60it/s]]\n",
      "100%|██████████| 448/448 [06:36<00:00,  1.13it/s]  \n",
      "100%|██████████| 366/366 [11:51<00:00,  1.94s/it]  \n",
      "100%|██████████| 657/657 [21:48<00:00,  1.99s/it]t]\n",
      "100%|██████████| 538/538 [38:48<00:00,  4.33s/it]  \n",
      "100%|██████████| 674/674 [43:38<00:00,  3.89s/it]\n",
      "100%|██████████| 729/729 [52:05<00:00,  4.29s/it]\n",
      "100%|██████████| 720/720 [52:43<00:00,  4.39s/it]\n",
      "100%|██████████| 802/802 [56:19<00:00,  4.21s/it]\n"
     ]
    }
   ],
   "execution_count": 2
  },
  {
   "metadata": {
    "ExecuteTime": {
     "end_time": "2024-07-19T07:42:12.217737Z",
     "start_time": "2024-07-19T07:42:12.213615Z"
    }
   },
   "cell_type": "code",
   "source": "",
   "id": "c26e44e3e94f8f0e",
   "outputs": [],
   "execution_count": 2
  }
 ],
 "metadata": {
  "kernelspec": {
   "display_name": "Python 3",
   "language": "python",
   "name": "python3"
  },
  "language_info": {
   "codemirror_mode": {
    "name": "ipython",
    "version": 2
   },
   "file_extension": ".py",
   "mimetype": "text/x-python",
   "name": "python",
   "nbconvert_exporter": "python",
   "pygments_lexer": "ipython2",
   "version": "2.7.6"
  }
 },
 "nbformat": 4,
 "nbformat_minor": 5
}
