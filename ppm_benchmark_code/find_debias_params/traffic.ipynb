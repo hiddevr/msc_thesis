{
 "cells": [
  {
   "cell_type": "code",
   "id": "initial_id",
   "metadata": {
    "collapsed": true,
    "ExecuteTime": {
     "end_time": "2024-07-22T13:58:03.368841Z",
     "start_time": "2024-07-22T13:57:24.659570Z"
    }
   },
   "source": [
    "import pm4py\n",
    "\n",
    "el = pm4py.read_xes('../../raw_eventlogs/Road_Traffic_Fine_Management_Process.xes/Road_Traffic_Fine_Management_Process.xes')"
   ],
   "execution_count": 1,
   "outputs": []
  },
  {
   "metadata": {
    "ExecuteTime": {
     "end_time": "2024-07-22T13:58:16.159353Z",
     "start_time": "2024-07-22T13:58:15.795362Z"
    }
   },
   "cell_type": "code",
   "source": [
    "import pandas as pd\n",
    "\n",
    "el['time:timestamp'] = pd.to_datetime(el['time:timestamp'])\n",
    "grouped = el.groupby('case:concept:name')['time:timestamp'].agg(['min', 'max'])\n",
    "\n",
    "grouped['duration_days'] = (grouped['max'] - grouped['min']).dt.total_seconds() / (24 * 3600)\n",
    "\n",
    "threshold = grouped['duration_days'].quantile(0.95)\n",
    "\n",
    "top_5_percent_cases = grouped[grouped['duration_days'] >= threshold]\n",
    "\n",
    "lowest_value_top_5_percent = top_5_percent_cases['duration_days'].min()\n",
    "\n",
    "print(f\"The lowest value of the top 5% longest durations is: {lowest_value_top_5_percent:.2f} days\")"
   ],
   "id": "bb28d34e243a3aef",
   "execution_count": 2,
   "outputs": []
  },
  {
   "metadata": {
    "ExecuteTime": {
     "end_time": "2024-07-22T13:58:20.179509Z",
     "start_time": "2024-07-22T13:58:19.104182Z"
    }
   },
   "cell_type": "code",
   "source": [
    "import plotly.express as px\n",
    "\n",
    "start_times = el.groupby('case:concept:name')['time:timestamp'].min().reset_index()\n",
    "\n",
    "start_times['start_date'] = start_times['time:timestamp'].dt.date\n",
    "\n",
    "case_counts = start_times['start_date'].value_counts().sort_index().reset_index()\n",
    "case_counts.columns = ['start_date', 'count']\n",
    "\n",
    "fig = px.line(case_counts, x='start_date', y='count', title='Number of Cases Started Each Day',\n",
    "              labels={'start_date': 'Date', 'count': 'Number of Cases Started'})\n",
    "\n",
    "fig.update_layout(xaxis_title='Date', yaxis_title='Number of Cases Started', xaxis_tickangle=45)\n",
    "fig.show()"
   ],
   "id": "308f065590cf00eb",
   "execution_count": 3,
   "outputs": []
  },
  {
   "metadata": {
    "ExecuteTime": {
     "end_time": "2024-07-22T13:58:26.198666Z",
     "start_time": "2024-07-22T13:58:25.761924Z"
    }
   },
   "cell_type": "code",
   "source": [
    "grouped = el.groupby('case:concept:name')['time:timestamp'].agg(['min', 'max']).reset_index()\n",
    "\n",
    "# Calculate duration for each case in days\n",
    "grouped['duration_days'] = (grouped['max'] - grouped['min']).dt.total_seconds() / (24 * 3600)\n",
    "\n",
    "# Extract the start date for each case\n",
    "grouped['start_date'] = grouped['min'].dt.date\n",
    "\n",
    "# Calculate the average duration of cases for each start date\n",
    "average_durations = grouped.groupby('start_date')['duration_days'].mean().reset_index()\n",
    "\n",
    "# Create a line plot using Plotly\n",
    "fig = px.line(average_durations, x='start_date', y='duration_days', title='Average Duration of Cases by Start Date',\n",
    "              labels={'start_date': 'Start Date', 'duration_days': 'Average Duration (days)'})\n",
    "\n",
    "fig.update_layout(xaxis_title='Start Date', yaxis_title='Average Duration (days)', xaxis_tickangle=45)\n",
    "fig.show()"
   ],
   "id": "28f552568526232c",
   "execution_count": 4,
   "outputs": []
  },
  {
   "metadata": {
    "ExecuteTime": {
     "end_time": "2024-07-22T13:59:26.364611Z",
     "start_time": "2024-07-22T13:59:24.363638Z"
    }
   },
   "cell_type": "code",
   "source": [
    "import numpy as np\n",
    "\n",
    "\n",
    "def start_from_date(dataset, start_date):\n",
    "    '''\n",
    "    removes outliers starting before start date from dataset\n",
    "    Args:\n",
    "        dataset: pandas DataFrame\n",
    "        start_date: string \"MM-YYYY\": dataset starts here after removing outliers\n",
    "\n",
    "    Returns:\n",
    "        dataset: pandas Dataframe\n",
    "\n",
    "    '''\n",
    "    case_starts_df = pd.DataFrame(dataset.groupby(\"case:concept:name\")[\"time:timestamp\"].min().reset_index())\n",
    "    case_starts_df['date'] = case_starts_df[\"time:timestamp\"].dt.to_period('M')\n",
    "    cases_after = case_starts_df[case_starts_df['date'].astype('str') >= start_date][\"case:concept:name\"].values\n",
    "    dataset = dataset[dataset[\"case:concept:name\"].isin(cases_after)]\n",
    "    return dataset\n",
    "\n",
    "def end_before_date(dataset, end_date):\n",
    "    '''\n",
    "\n",
    "    removes outliers ending after end date from dataset\n",
    "    Args:\n",
    "        dataset: pandas DataFrame\n",
    "        end_date: string \"MM-YYYY\": dataset stops here after removing outliers\n",
    "\n",
    "    Returns:\n",
    "        dataset: pandas Dataframe\n",
    "    '''\n",
    "    case_stops_df = pd.DataFrame(dataset.groupby(\"case:concept:name\")[\"time:timestamp\"].max().reset_index())\n",
    "    case_stops_df['date'] = case_stops_df[\"time:timestamp\"].dt.to_period('M')\n",
    "    cases_before = case_stops_df[case_stops_df['date'].astype('str') <= end_date][\"case:concept:name\"].values\n",
    "    dataset = dataset[dataset[\"case:concept:name\"].isin(cases_before)]\n",
    "    return dataset\n",
    "\n",
    "def limited_duration(dataset, max_duration):\n",
    "    '''\n",
    "\n",
    "    limits dataset to cases shorter than maximal duration and debiases the end of the dataset\n",
    "    by dropping cases starting after the last timestamp of the dataset - max_duration\n",
    "    Args:\n",
    "        dataset: pandas DataFrame\n",
    "        max_duration: float\n",
    "\n",
    "    Returns:\n",
    "        dataset: pandas Dataframe\n",
    "        latest_start: timeStamp with new end time for the dataset\n",
    "\n",
    "    '''\n",
    "    # compute each case's duration\n",
    "    agg_dict = {\"time:timestamp\": ['min', 'max']}\n",
    "    duration_df = pd.DataFrame(dataset.groupby(\"case:concept:name\").agg(agg_dict)).reset_index()\n",
    "    duration_df[\"duration\"] = (duration_df[(\"time:timestamp\", \"max\")] - duration_df[\n",
    "        (\"time:timestamp\", \"min\")]).dt.total_seconds() / (24 * 60 * 60)\n",
    "    # condition 1: cases are shorter than max_duration\n",
    "    condition_1 = duration_df[\"duration\"] <= max_duration * 1.00000000001\n",
    "    cases_retained = duration_df[condition_1][\"case:concept:name\"].values\n",
    "    dataset = dataset[dataset[\"case:concept:name\"].isin(cases_retained)].reset_index(drop=True)\n",
    "    # condition 2: drop cases starting after the dataset's last timestamp - the max_duration\n",
    "    latest_start = dataset[\"time:timestamp\"].max() - pd.Timedelta(max_duration, unit='D')\n",
    "    condition_2 = duration_df[(\"time:timestamp\", \"min\")] <= latest_start\n",
    "    cases_retained = duration_df[condition_2][\"case:concept:name\"].values\n",
    "    dataset = dataset[dataset[\"case:concept:name\"].isin(cases_retained)].reset_index(drop=True)\n",
    "    return dataset, latest_start\n",
    "\n",
    "def train_test_split(df, test_len, latest_start, targets):\n",
    "    '''\n",
    "    splits the dataset in train and test set, applying strict temporal splitting and\n",
    "    debiasing the test set\n",
    "    Args:\n",
    "        df: pandas DataFrame\n",
    "        test_len: float: share of cases belonging in test set\n",
    "        latest_start: timeStamp with new end time for the dataset\n",
    "    Returns:\n",
    "        df_train: pandas DataFrame\n",
    "        df_test: pandas DataFrame\n",
    "    '''\n",
    "    case_starts_df = df.groupby(\"case:concept:name\")[\"time:timestamp\"].min()\n",
    "    case_nr_list_start = case_starts_df.sort_values().index.array\n",
    "    case_stops_df = df.groupby(\"case:concept:name\")[\"time:timestamp\"].max().to_frame()\n",
    "\n",
    "    first_test_case_nr = int(len(case_nr_list_start) * (1 - test_len))\n",
    "    first_test_start_time = np.sort(case_starts_df.values)[first_test_case_nr]\n",
    "    test_case_nrs = case_stops_df[case_stops_df[\"time:timestamp\"].values >= first_test_start_time].index.array\n",
    "    df_test_all = df[df[\"case:concept:name\"].isin(test_case_nrs)].reset_index(drop=True)\n",
    "\n",
    "    df_test = df_test_all[df_test_all[\"time:timestamp\"] <= latest_start]\n",
    "\n",
    "    df_test.loc[df_test[\"time:timestamp\"].values < first_test_start_time, targets] = np.nan\n",
    "\n",
    "    train_case_nrs = case_stops_df[\n",
    "        case_stops_df[\"time:timestamp\"].values < first_test_start_time].index.array\n",
    "    df_train = df[df[\"case:concept:name\"].isin(train_case_nrs)].reset_index(drop=True)\n",
    "\n",
    "    return df_train, df_test\n",
    "\n",
    "max_duration = 968\n",
    "end = '2012-01'\n",
    "\n",
    "el = end_before_date(el, end)\n",
    "el, latest_start = limited_duration(el, max_duration)\n",
    "train, test = train_test_split(el, 0.2, latest_start, None)\n",
    "print(len(train['case:concept:name'].unique()))\n",
    "print(len(test['case:concept:name'].unique()))"
   ],
   "id": "c308479fa3c19663",
   "execution_count": 5,
   "outputs": []
  },
  {
   "metadata": {},
   "cell_type": "code",
   "execution_count": null,
   "source": "",
   "id": "eda15986a8261fbb",
   "outputs": []
  }
 ],
 "metadata": {
  "kernelspec": {
   "display_name": "Python 3",
   "language": "python",
   "name": "python3"
  },
  "language_info": {
   "codemirror_mode": {
    "name": "ipython",
    "version": 2
   },
   "file_extension": ".py",
   "mimetype": "text/x-python",
   "name": "python",
   "nbconvert_exporter": "python",
   "pygments_lexer": "ipython2",
   "version": "2.7.6"
  }
 },
 "nbformat": 4,
 "nbformat_minor": 5
}
