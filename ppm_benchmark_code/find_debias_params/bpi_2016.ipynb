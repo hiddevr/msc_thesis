{
 "cells": [
  {
   "cell_type": "code",
   "id": "initial_id",
   "metadata": {
    "collapsed": true,
    "ExecuteTime": {
     "end_time": "2024-07-22T13:20:58.182721Z",
     "start_time": "2024-07-22T13:18:56.330319Z"
    }
   },
   "source": [
    "import sys\n",
    "sys.path.insert(0, '../')\n",
    "\n",
    "from ppm_benchmark.DatasetNormalizers import BPI2016Normalizer\n",
    "from ppm_benchmark.DatasetLoaders import BPI2016LocalLoader\n",
    "\n",
    "normalizer = BPI2016Normalizer()\n",
    "loader = BPI2016LocalLoader()\n",
    "dfs = loader.load_data(None)\n",
    "el = normalizer.normalize_next_attribute_classification(dfs)"
   ],
   "execution_count": 1,
   "outputs": []
  },
  {
   "metadata": {
    "ExecuteTime": {
     "end_time": "2024-07-22T13:23:21.632279Z",
     "start_time": "2024-07-22T13:23:21.004953Z"
    }
   },
   "cell_type": "code",
   "source": [
    "grouped = el.groupby('case:concept:name')['time:timestamp'].agg(['min', 'max'])\n",
    "\n",
    "grouped['duration_days'] = (grouped['max'] - grouped['min']).dt.total_seconds() / (24 * 3600)\n",
    "\n",
    "threshold = grouped['duration_days'].quantile(0.95)\n",
    "\n",
    "top_5_percent_cases = grouped[grouped['duration_days'] >= threshold]\n",
    "\n",
    "lowest_value_top_5_percent = top_5_percent_cases['duration_days'].min()\n",
    "\n",
    "print(f\"The lowest value of the top 5% longest durations is: {lowest_value_top_5_percent:.2f} days\")"
   ],
   "id": "bb28d34e243a3aef",
   "execution_count": 5,
   "outputs": []
  },
  {
   "metadata": {
    "ExecuteTime": {
     "end_time": "2024-07-22T13:30:41.803618Z",
     "start_time": "2024-07-22T13:30:33.829993Z"
    }
   },
   "cell_type": "code",
   "source": [
    "import plotly.express as px\n",
    "\n",
    "start_times = el.groupby('case:concept:name')['time:timestamp'].min().reset_index()\n",
    "\n",
    "start_times['start_date'] = start_times['time:timestamp'].dt.date\n",
    "\n",
    "case_counts = start_times['start_date'].value_counts().sort_index().reset_index()\n",
    "case_counts.columns = ['start_date', 'count']\n",
    "\n",
    "fig = px.line(case_counts, x='start_date', y='count', title='Number of Cases Started Each Day',\n",
    "              labels={'start_date': 'Date', 'count': 'Number of Cases Started'})\n",
    "\n",
    "fig.update_layout(xaxis_title='Date', yaxis_title='Number of Cases Started', xaxis_tickangle=45)\n",
    "fig.show()"
   ],
   "id": "308f065590cf00eb",
   "execution_count": 8,
   "outputs": []
  },
  {
   "metadata": {
    "ExecuteTime": {
     "end_time": "2024-07-22T13:32:38.347968Z",
     "start_time": "2024-07-22T13:32:37.441970Z"
    }
   },
   "cell_type": "code",
   "source": [
    "grouped = el.groupby('case:concept:name')['time:timestamp'].agg(['min', 'max']).reset_index()\n",
    "\n",
    "# Calculate duration for each case in days\n",
    "grouped['duration_days'] = (grouped['max'] - grouped['min']).dt.total_seconds() / (24 * 3600)\n",
    "\n",
    "# Extract the start date for each case\n",
    "grouped['start_date'] = grouped['min'].dt.date\n",
    "\n",
    "# Calculate the average duration of cases for each start date\n",
    "average_durations = grouped.groupby('start_date')['duration_days'].mean().reset_index()\n",
    "\n",
    "# Create a line plot using Plotly\n",
    "fig = px.line(average_durations, x='start_date', y='duration_days', title='Average Duration of Cases by Start Date',\n",
    "              labels={'start_date': 'Start Date', 'duration_days': 'Average Duration (days)'})\n",
    "\n",
    "fig.update_layout(xaxis_title='Start Date', yaxis_title='Average Duration (days)', xaxis_tickangle=45)\n",
    "fig.show()"
   ],
   "id": "28f552568526232c",
   "execution_count": 10,
   "outputs": []
  }
 ],
 "metadata": {
  "kernelspec": {
   "display_name": "Python 3",
   "language": "python",
   "name": "python3"
  },
  "language_info": {
   "codemirror_mode": {
    "name": "ipython",
    "version": 2
   },
   "file_extension": ".py",
   "mimetype": "text/x-python",
   "name": "python",
   "nbconvert_exporter": "python",
   "pygments_lexer": "ipython2",
   "version": "2.7.6"
  }
 },
 "nbformat": 4,
 "nbformat_minor": 5
}
